{
 "cells": [
  {
   "cell_type": "code",
   "execution_count": 2,
   "metadata": {},
   "outputs": [],
   "source": [
    "#Imports\n",
    "\n",
    "import copy\n",
    "import pandas as pd\n",
    "\n",
    "# Requests sends and recieves HTTP requests.\n",
    "import requests\n",
    "\n",
    "# Beautiful Soup parses HTML documents in python.\n",
    "from bs4 import BeautifulSoup\n",
    "import csv\n",
    "import pprint\n",
    "import re"
   ]
  },
  {
   "cell_type": "markdown",
   "metadata": {},
   "source": [
    "# Test URL Request Before Web Scraping  "
   ]
  },
  {
   "cell_type": "code",
   "execution_count": 5,
   "metadata": {},
   "outputs": [],
   "source": [
    "#Request  Single URL for the Defensive Stats in year 2000\n",
    "pfr_url = \"https://www.pro-football-reference.com/years/2020/\"\n",
    "r = requests.get(pfr_url)"
   ]
  },
  {
   "cell_type": "code",
   "execution_count": 6,
   "metadata": {},
   "outputs": [
    {
     "data": {
      "text/plain": [
       "200"
      ]
     },
     "execution_count": 6,
     "metadata": {},
     "output_type": "execute_result"
    }
   ],
   "source": [
    "#If this returns 200 it was a success.\n",
    "r.status_code"
   ]
  },
  {
   "cell_type": "markdown",
   "metadata": {},
   "source": [
    "# Use API to Scrape Data"
   ]
  },
  {
   "cell_type": "code",
   "execution_count": 1,
   "metadata": {},
   "outputs": [
    {
     "ename": "NameError",
     "evalue": "name 'requests' is not defined",
     "output_type": "error",
     "traceback": [
      "\u001b[1;31m---------------------------------------------------------------------------\u001b[0m",
      "\u001b[1;31mNameError\u001b[0m                                 Traceback (most recent call last)",
      "\u001b[1;32m<ipython-input-1-0adca490ae7b>\u001b[0m in \u001b[0;36m<module>\u001b[1;34m\u001b[0m\n\u001b[0;32m     16\u001b[0m             \u001b[0mids\u001b[0m\u001b[1;33m.\u001b[0m\u001b[0mappend\u001b[0m\u001b[1;33m(\u001b[0m\u001b[0mx\u001b[0m\u001b[1;33m)\u001b[0m\u001b[1;33m\u001b[0m\u001b[1;33m\u001b[0m\u001b[0m\n\u001b[0;32m     17\u001b[0m     \u001b[1;32mreturn\u001b[0m\u001b[1;33m(\u001b[0m\u001b[0mids\u001b[0m\u001b[1;33m)\u001b[0m\u001b[1;33m\u001b[0m\u001b[1;33m\u001b[0m\u001b[0m\n\u001b[1;32m---> 18\u001b[1;33m \u001b[0mprint\u001b[0m\u001b[1;33m(\u001b[0m\u001b[0mfindTables\u001b[0m\u001b[1;33m(\u001b[0m\u001b[1;34m\"https://www.pro-football-reference.com/years/2020/\"\u001b[0m\u001b[1;33m)\u001b[0m\u001b[1;33m)\u001b[0m\u001b[1;33m\u001b[0m\u001b[1;33m\u001b[0m\u001b[0m\n\u001b[0m",
      "\u001b[1;32m<ipython-input-1-0adca490ae7b>\u001b[0m in \u001b[0;36mfindTables\u001b[1;34m(url)\u001b[0m\n\u001b[0;32m      3\u001b[0m \u001b[1;31m#This returns\u001b[0m\u001b[1;33m\u001b[0m\u001b[1;33m\u001b[0m\u001b[1;33m\u001b[0m\u001b[0m\n\u001b[0;32m      4\u001b[0m \u001b[1;32mdef\u001b[0m \u001b[0mfindTables\u001b[0m\u001b[1;33m(\u001b[0m\u001b[0murl\u001b[0m\u001b[1;33m)\u001b[0m\u001b[1;33m:\u001b[0m\u001b[1;33m\u001b[0m\u001b[1;33m\u001b[0m\u001b[0m\n\u001b[1;32m----> 5\u001b[1;33m     \u001b[0mres\u001b[0m \u001b[1;33m=\u001b[0m \u001b[0mrequests\u001b[0m\u001b[1;33m.\u001b[0m\u001b[0mget\u001b[0m\u001b[1;33m(\u001b[0m\u001b[0murl\u001b[0m\u001b[1;33m)\u001b[0m\u001b[1;33m\u001b[0m\u001b[1;33m\u001b[0m\u001b[0m\n\u001b[0m\u001b[0;32m      6\u001b[0m     \u001b[0mcomm\u001b[0m \u001b[1;33m=\u001b[0m \u001b[0mre\u001b[0m\u001b[1;33m.\u001b[0m\u001b[0mcompile\u001b[0m\u001b[1;33m(\u001b[0m\u001b[1;34m\"<!--|-->\"\u001b[0m\u001b[1;33m)\u001b[0m\u001b[1;33m\u001b[0m\u001b[1;33m\u001b[0m\u001b[0m\n\u001b[0;32m      7\u001b[0m     \u001b[0msoup\u001b[0m \u001b[1;33m=\u001b[0m \u001b[0mBeautifulSoup\u001b[0m\u001b[1;33m(\u001b[0m\u001b[0mcomm\u001b[0m\u001b[1;33m.\u001b[0m\u001b[0msub\u001b[0m\u001b[1;33m(\u001b[0m\u001b[1;34m\"\"\u001b[0m\u001b[1;33m,\u001b[0m \u001b[0mres\u001b[0m\u001b[1;33m.\u001b[0m\u001b[0mtext\u001b[0m\u001b[1;33m)\u001b[0m\u001b[1;33m,\u001b[0m \u001b[1;34m'lxml'\u001b[0m\u001b[1;33m)\u001b[0m\u001b[1;33m\u001b[0m\u001b[1;33m\u001b[0m\u001b[0m\n",
      "\u001b[1;31mNameError\u001b[0m: name 'requests' is not defined"
     ]
    }
   ],
   "source": [
    "#Ben Kite Pro Football Reference WebScrape API\n",
    "#https://github.com/BenKite/football_data/blob/master/profootballReferenceScrape.py\n",
    "#This returns a list of table names needed to scrape the information from the desired table.\n",
    "def findTables(url):\n",
    "    res = requests.get(url)\n",
    "    comm = re.compile(\"<!--|-->\")\n",
    "    soup = BeautifulSoup(comm.sub(\"\", res.text), 'lxml')\n",
    "    divs = soup.findAll('div', id = \"content\")\n",
    "    divs = divs[0].findAll(\"div\", id=re.compile(\"^all\"))\n",
    "    ids = []\n",
    "    for div in divs:\n",
    "        searchme = str(div.findAll(\"table\"))\n",
    "        x = searchme[searchme.find(\"id=\") + 3: searchme.find(\">\")]\n",
    "        x = x.replace(\"\\\"\", \"\")\n",
    "        if len(x) > 0:\n",
    "            ids.append(x)\n",
    "    return(ids)\n",
    "print(findTables(\"https://www.pro-football-reference.com/years/2020/\"))"
   ]
  },
  {
   "cell_type": "code",
   "execution_count": 187,
   "metadata": {},
   "outputs": [],
   "source": [
    "#This portion of Ben Kite's API will pull the information from the table in the list of table_ids\n",
    "#The function is defined here and ran through a for loop with the desired years of the data saving each request to csv\n",
    "#I made some modifications to add a year column and change the csv name based on the year of the data in the for loop\n",
    "def pullTablestats(url, tableID, header = False):\n",
    "    res = requests.get(url)\n",
    "    ## Work around comments\n",
    "    comm = re.compile(\"<!--|-->\")\n",
    "    soup = BeautifulSoup(comm.sub(\"\", res.text), 'lxml')\n",
    "    tables = soup.findAll('table', id = tableID)\n",
    "    data_rows = tables[0].findAll('tr')\n",
    "    game_data = [[td.getText() for td in data_rows[i].findAll(['th','td'])]\n",
    "        for i in range(len(data_rows))\n",
    "        ]\n",
    "    data = pd.DataFrame(game_data)\n",
    "    if header == True:\n",
    "        data_header = tables[0].findAll('thead')\n",
    "        data_header = data_header[0].findAll(\"tr\")\n",
    "        data_header = data_header[0].findAll(\"th\")\n",
    "        header = []\n",
    "        for i in range(len(data.columns)):\n",
    "            header.append(data_header[i].getText())\n",
    "        data.columns = header\n",
    "        data = data.loc[data[header[0]] != header[0]]\n",
    "    data[\"year\"]=year\n",
    "    data = data.reset_index(drop = True)\n",
    "    #writes to csv at the end of the function and uses fstring to change the year in the filename\n",
    "    data.to_csv(f\"team_offense{year}.csv\")\n",
    "    return(data)\n",
    "   \n"
   ]
  },
  {
   "cell_type": "code",
   "execution_count": 189,
   "metadata": {},
   "outputs": [],
   "source": [
    "#This will run the function to grab data for the range of years listed and save the results to csv.\n",
    "for year in range(1935,2021):\n",
    "    url=\"https://www.pro-football-reference.com/years/{}/opp.htm\".format(year)\n",
    "    pullTablestats(url,'team_stats',header=False)"
   ]
  }
 ],
 "metadata": {
  "kernelspec": {
   "display_name": "Python 3",
   "language": "python",
   "name": "python3"
  },
  "language_info": {
   "codemirror_mode": {
    "name": "ipython",
    "version": 3
   },
   "file_extension": ".py",
   "mimetype": "text/x-python",
   "name": "python",
   "nbconvert_exporter": "python",
   "pygments_lexer": "ipython3",
   "version": "3.7.6"
  }
 },
 "nbformat": 4,
 "nbformat_minor": 4
}
