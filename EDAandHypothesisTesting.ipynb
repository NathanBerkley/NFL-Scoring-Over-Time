{
 "cells": [
  {
   "cell_type": "markdown",
   "metadata": {},
   "source": [
    "# Imports and DataFrame Options"
   ]
  },
  {
   "cell_type": "code",
   "execution_count": 1,
   "metadata": {},
   "outputs": [],
   "source": [
    "import pandas as pd\n",
    "import numpy as np\n",
    "import matplotlib.pyplot as plt\n",
    "import scipy.stats as stats\n",
    "import statsmodels.stats.power as smp"
   ]
  },
  {
   "cell_type": "code",
   "execution_count": 2,
   "metadata": {},
   "outputs": [],
   "source": [
    "pd.set_option('display.max_columns', None)\n",
    "#pd.set_option('display.max_rows', None)"
   ]
  },
  {
   "cell_type": "code",
   "execution_count": 3,
   "metadata": {},
   "outputs": [],
   "source": [
    "#Be aware of file directory for loading in the csv.\n",
    "offense_df=pd.read_csv(\"TeamOffense/clean_offense_stats.csv\")\n"
   ]
  },
  {
   "cell_type": "markdown",
   "metadata": {},
   "source": [
    "# Build DataFrames for EDA"
   ]
  },
  {
   "cell_type": "code",
   "execution_count": 4,
   "metadata": {},
   "outputs": [],
   "source": [
    "#Remove uneeded header column\n",
    "offense_df=offense_df.iloc[:,1:]\n"
   ]
  },
  {
   "cell_type": "code",
   "execution_count": 5,
   "metadata": {},
   "outputs": [],
   "source": [
    "#Make Dataframes for league totals, legue averages, league_avg_game to explore different relationships over time\n",
    "league_totals=offense_df.loc[offense_df[\"Tm\"]==\"League Total\"]\n",
    "league_averages=offense_df.loc[offense_df[\"Tm\"]==\"Avg Team\"]\n",
    "league_avg_game=offense_df.loc[offense_df[\"Tm\"]==\"Avg Tm/G\"]\n",
    "\n"
   ]
  },
  {
   "cell_type": "code",
   "execution_count": 6,
   "metadata": {},
   "outputs": [
    {
     "data": {
      "text/html": [
       "<div>\n",
       "<style scoped>\n",
       "    .dataframe tbody tr th:only-of-type {\n",
       "        vertical-align: middle;\n",
       "    }\n",
       "\n",
       "    .dataframe tbody tr th {\n",
       "        vertical-align: top;\n",
       "    }\n",
       "\n",
       "    .dataframe thead th {\n",
       "        text-align: right;\n",
       "    }\n",
       "</style>\n",
       "<table border=\"1\" class=\"dataframe\">\n",
       "  <thead>\n",
       "    <tr style=\"text-align: right;\">\n",
       "      <th></th>\n",
       "      <th>Tm</th>\n",
       "      <th>G</th>\n",
       "      <th>PF</th>\n",
       "      <th>Total_Yds</th>\n",
       "      <th>Ply</th>\n",
       "      <th>Y/P</th>\n",
       "      <th>TO</th>\n",
       "      <th>FL</th>\n",
       "      <th>Total_1stD</th>\n",
       "      <th>Cmp</th>\n",
       "      <th>Pass_Att</th>\n",
       "      <th>Pass_yds</th>\n",
       "      <th>Pass_TD</th>\n",
       "      <th>Int</th>\n",
       "      <th>NY/A</th>\n",
       "      <th>Pass_1stD</th>\n",
       "      <th>Rush_Att</th>\n",
       "      <th>Rush_Yds</th>\n",
       "      <th>Rush_TD</th>\n",
       "      <th>Y/A</th>\n",
       "      <th>Rush_1stD</th>\n",
       "      <th>Pen</th>\n",
       "      <th>Penalty_Yds</th>\n",
       "      <th>Penalty_1stD</th>\n",
       "      <th>Sc%</th>\n",
       "      <th>TO%</th>\n",
       "      <th>Year</th>\n",
       "    </tr>\n",
       "  </thead>\n",
       "  <tbody>\n",
       "    <tr>\n",
       "      <th>0</th>\n",
       "      <td>Chicago Bears</td>\n",
       "      <td>12.0</td>\n",
       "      <td>192.0</td>\n",
       "      <td>3317.0</td>\n",
       "      <td>760.0</td>\n",
       "      <td>4.4</td>\n",
       "      <td>21.0</td>\n",
       "      <td>0.0</td>\n",
       "      <td>140.0</td>\n",
       "      <td>73.0</td>\n",
       "      <td>221.0</td>\n",
       "      <td>1221.0</td>\n",
       "      <td>13.0</td>\n",
       "      <td>21.0</td>\n",
       "      <td>5.5</td>\n",
       "      <td>NaN</td>\n",
       "      <td>539.0</td>\n",
       "      <td>2096.0</td>\n",
       "      <td>13.0</td>\n",
       "      <td>3.9</td>\n",
       "      <td>140.0</td>\n",
       "      <td>0.0</td>\n",
       "      <td>354.0</td>\n",
       "      <td>NaN</td>\n",
       "      <td>NaN</td>\n",
       "      <td>NaN</td>\n",
       "      <td>1935.0</td>\n",
       "    </tr>\n",
       "    <tr>\n",
       "      <th>1</th>\n",
       "      <td>Detroit Lions</td>\n",
       "      <td>12.0</td>\n",
       "      <td>191.0</td>\n",
       "      <td>2693.0</td>\n",
       "      <td>674.0</td>\n",
       "      <td>4.0</td>\n",
       "      <td>20.0</td>\n",
       "      <td>0.0</td>\n",
       "      <td>121.0</td>\n",
       "      <td>57.0</td>\n",
       "      <td>142.0</td>\n",
       "      <td>920.0</td>\n",
       "      <td>9.0</td>\n",
       "      <td>20.0</td>\n",
       "      <td>6.5</td>\n",
       "      <td>NaN</td>\n",
       "      <td>532.0</td>\n",
       "      <td>1773.0</td>\n",
       "      <td>15.0</td>\n",
       "      <td>3.3</td>\n",
       "      <td>121.0</td>\n",
       "      <td>0.0</td>\n",
       "      <td>195.0</td>\n",
       "      <td>NaN</td>\n",
       "      <td>NaN</td>\n",
       "      <td>NaN</td>\n",
       "      <td>1935.0</td>\n",
       "    </tr>\n",
       "    <tr>\n",
       "      <th>2</th>\n",
       "      <td>Green Bay Packers</td>\n",
       "      <td>12.0</td>\n",
       "      <td>181.0</td>\n",
       "      <td>3011.0</td>\n",
       "      <td>678.0</td>\n",
       "      <td>4.4</td>\n",
       "      <td>27.0</td>\n",
       "      <td>0.0</td>\n",
       "      <td>125.0</td>\n",
       "      <td>93.0</td>\n",
       "      <td>230.0</td>\n",
       "      <td>1449.0</td>\n",
       "      <td>11.0</td>\n",
       "      <td>27.0</td>\n",
       "      <td>6.3</td>\n",
       "      <td>NaN</td>\n",
       "      <td>448.0</td>\n",
       "      <td>1562.0</td>\n",
       "      <td>7.0</td>\n",
       "      <td>3.5</td>\n",
       "      <td>125.0</td>\n",
       "      <td>0.0</td>\n",
       "      <td>295.0</td>\n",
       "      <td>NaN</td>\n",
       "      <td>NaN</td>\n",
       "      <td>NaN</td>\n",
       "      <td>1935.0</td>\n",
       "    </tr>\n",
       "    <tr>\n",
       "      <th>3</th>\n",
       "      <td>New York Giants</td>\n",
       "      <td>12.0</td>\n",
       "      <td>180.0</td>\n",
       "      <td>2400.0</td>\n",
       "      <td>651.0</td>\n",
       "      <td>3.7</td>\n",
       "      <td>19.0</td>\n",
       "      <td>0.0</td>\n",
       "      <td>112.0</td>\n",
       "      <td>69.0</td>\n",
       "      <td>154.0</td>\n",
       "      <td>947.0</td>\n",
       "      <td>10.0</td>\n",
       "      <td>19.0</td>\n",
       "      <td>6.1</td>\n",
       "      <td>NaN</td>\n",
       "      <td>497.0</td>\n",
       "      <td>1453.0</td>\n",
       "      <td>9.0</td>\n",
       "      <td>2.9</td>\n",
       "      <td>112.0</td>\n",
       "      <td>0.0</td>\n",
       "      <td>175.0</td>\n",
       "      <td>NaN</td>\n",
       "      <td>NaN</td>\n",
       "      <td>NaN</td>\n",
       "      <td>1935.0</td>\n",
       "    </tr>\n",
       "    <tr>\n",
       "      <th>4</th>\n",
       "      <td>Pittsburgh Pirates</td>\n",
       "      <td>12.0</td>\n",
       "      <td>100.0</td>\n",
       "      <td>1504.0</td>\n",
       "      <td>561.0</td>\n",
       "      <td>2.7</td>\n",
       "      <td>40.0</td>\n",
       "      <td>0.0</td>\n",
       "      <td>64.0</td>\n",
       "      <td>67.0</td>\n",
       "      <td>234.0</td>\n",
       "      <td>996.0</td>\n",
       "      <td>5.0</td>\n",
       "      <td>40.0</td>\n",
       "      <td>4.3</td>\n",
       "      <td>NaN</td>\n",
       "      <td>327.0</td>\n",
       "      <td>508.0</td>\n",
       "      <td>4.0</td>\n",
       "      <td>1.6</td>\n",
       "      <td>64.0</td>\n",
       "      <td>0.0</td>\n",
       "      <td>201.0</td>\n",
       "      <td>NaN</td>\n",
       "      <td>NaN</td>\n",
       "      <td>NaN</td>\n",
       "      <td>1935.0</td>\n",
       "    </tr>\n",
       "  </tbody>\n",
       "</table>\n",
       "</div>"
      ],
      "text/plain": [
       "                   Tm     G     PF  Total_Yds    Ply  Y/P    TO   FL  \\\n",
       "0       Chicago Bears  12.0  192.0     3317.0  760.0  4.4  21.0  0.0   \n",
       "1       Detroit Lions  12.0  191.0     2693.0  674.0  4.0  20.0  0.0   \n",
       "2   Green Bay Packers  12.0  181.0     3011.0  678.0  4.4  27.0  0.0   \n",
       "3     New York Giants  12.0  180.0     2400.0  651.0  3.7  19.0  0.0   \n",
       "4  Pittsburgh Pirates  12.0  100.0     1504.0  561.0  2.7  40.0  0.0   \n",
       "\n",
       "   Total_1stD   Cmp  Pass_Att  Pass_yds  Pass_TD   Int  NY/A  Pass_1stD  \\\n",
       "0       140.0  73.0     221.0    1221.0     13.0  21.0   5.5        NaN   \n",
       "1       121.0  57.0     142.0     920.0      9.0  20.0   6.5        NaN   \n",
       "2       125.0  93.0     230.0    1449.0     11.0  27.0   6.3        NaN   \n",
       "3       112.0  69.0     154.0     947.0     10.0  19.0   6.1        NaN   \n",
       "4        64.0  67.0     234.0     996.0      5.0  40.0   4.3        NaN   \n",
       "\n",
       "   Rush_Att  Rush_Yds  Rush_TD  Y/A  Rush_1stD  Pen  Penalty_Yds  \\\n",
       "0     539.0    2096.0     13.0  3.9      140.0  0.0        354.0   \n",
       "1     532.0    1773.0     15.0  3.3      121.0  0.0        195.0   \n",
       "2     448.0    1562.0      7.0  3.5      125.0  0.0        295.0   \n",
       "3     497.0    1453.0      9.0  2.9      112.0  0.0        175.0   \n",
       "4     327.0     508.0      4.0  1.6       64.0  0.0        201.0   \n",
       "\n",
       "   Penalty_1stD  Sc%  TO%    Year  \n",
       "0           NaN  NaN  NaN  1935.0  \n",
       "1           NaN  NaN  NaN  1935.0  \n",
       "2           NaN  NaN  NaN  1935.0  \n",
       "3           NaN  NaN  NaN  1935.0  \n",
       "4           NaN  NaN  NaN  1935.0  "
      ]
     },
     "execution_count": 6,
     "metadata": {},
     "output_type": "execute_result"
    }
   ],
   "source": [
    "#I need to create a dataframe that does not contain league totals,averages, and avg team per game info.\n",
    "\n",
    "ind_teams_offense=offense_df.loc[(offense_df[\"Tm\"]!=\"League Total\")& (offense_df[\"Tm\"]!=\"Avg Team\") & (offense_df[\"Tm\"]!=\"Avg Tm/G\")]\n",
    "\n",
    "ind_teams_offense.head()"
   ]
  },
  {
   "cell_type": "code",
   "execution_count": 7,
   "metadata": {},
   "outputs": [
    {
     "name": "stderr",
     "output_type": "stream",
     "text": [
      "C:\\Users\\natha\\anaconda3\\lib\\site-packages\\ipykernel_launcher.py:2: RuntimeWarning: invalid value encountered in true_divide\n",
      "  \n",
      "C:\\Users\\natha\\anaconda3\\lib\\site-packages\\ipykernel_launcher.py:2: SettingWithCopyWarning: \n",
      "A value is trying to be set on a copy of a slice from a DataFrame.\n",
      "Try using .loc[row_indexer,col_indexer] = value instead\n",
      "\n",
      "See the caveats in the documentation: https://pandas.pydata.org/pandas-docs/stable/user_guide/indexing.html#returning-a-view-versus-a-copy\n",
      "  \n",
      "C:\\Users\\natha\\anaconda3\\lib\\site-packages\\ipykernel_launcher.py:3: SettingWithCopyWarning: \n",
      "A value is trying to be set on a copy of a slice from a DataFrame.\n",
      "Try using .loc[row_indexer,col_indexer] = value instead\n",
      "\n",
      "See the caveats in the documentation: https://pandas.pydata.org/pandas-docs/stable/user_guide/indexing.html#returning-a-view-versus-a-copy\n",
      "  This is separate from the ipykernel package so we can avoid doing imports until\n"
     ]
    }
   ],
   "source": [
    "#I need to find ppg,turnovers per game for each team in order to do potential statistical testing later.\n",
    "ind_teams_offense[\"PPG\"]=ind_teams_offense.iloc[:,[2]].values/ind_teams_offense.iloc[:,[1]].values\n",
    "ind_teams_offense[\"TO/G\"]=ind_teams_offense.iloc[:,[6]].values/ind_teams_offense.iloc[:,[1]].values"
   ]
  },
  {
   "cell_type": "code",
   "execution_count": 26,
   "metadata": {},
   "outputs": [
    {
     "data": {
      "text/html": [
       "<div>\n",
       "<style scoped>\n",
       "    .dataframe tbody tr th:only-of-type {\n",
       "        vertical-align: middle;\n",
       "    }\n",
       "\n",
       "    .dataframe tbody tr th {\n",
       "        vertical-align: top;\n",
       "    }\n",
       "\n",
       "    .dataframe thead th {\n",
       "        text-align: right;\n",
       "    }\n",
       "</style>\n",
       "<table border=\"1\" class=\"dataframe\">\n",
       "  <thead>\n",
       "    <tr style=\"text-align: right;\">\n",
       "      <th></th>\n",
       "      <th>Tm</th>\n",
       "      <th>G</th>\n",
       "      <th>PF</th>\n",
       "      <th>Total_Yds</th>\n",
       "      <th>Ply</th>\n",
       "      <th>Y/P</th>\n",
       "      <th>TO</th>\n",
       "      <th>FL</th>\n",
       "      <th>Total_1stD</th>\n",
       "      <th>Cmp</th>\n",
       "      <th>Pass_Att</th>\n",
       "      <th>Pass_yds</th>\n",
       "      <th>Pass_TD</th>\n",
       "      <th>Int</th>\n",
       "      <th>NY/A</th>\n",
       "      <th>Pass_1stD</th>\n",
       "      <th>Rush_Att</th>\n",
       "      <th>Rush_Yds</th>\n",
       "      <th>Rush_TD</th>\n",
       "      <th>Y/A</th>\n",
       "      <th>Rush_1stD</th>\n",
       "      <th>Pen</th>\n",
       "      <th>Penalty_Yds</th>\n",
       "      <th>Penalty_1stD</th>\n",
       "      <th>Sc%</th>\n",
       "      <th>TO%</th>\n",
       "      <th>Year</th>\n",
       "      <th>PPG</th>\n",
       "      <th>TO/G</th>\n",
       "    </tr>\n",
       "  </thead>\n",
       "  <tbody>\n",
       "    <tr>\n",
       "      <th>0</th>\n",
       "      <td>Chicago Bears</td>\n",
       "      <td>12.0</td>\n",
       "      <td>192.0</td>\n",
       "      <td>3317.0</td>\n",
       "      <td>760.0</td>\n",
       "      <td>4.4</td>\n",
       "      <td>21.0</td>\n",
       "      <td>0.0</td>\n",
       "      <td>140.0</td>\n",
       "      <td>73.0</td>\n",
       "      <td>221.0</td>\n",
       "      <td>1221.0</td>\n",
       "      <td>13.0</td>\n",
       "      <td>21.0</td>\n",
       "      <td>5.5</td>\n",
       "      <td>NaN</td>\n",
       "      <td>539.0</td>\n",
       "      <td>2096.0</td>\n",
       "      <td>13.0</td>\n",
       "      <td>3.9</td>\n",
       "      <td>140.0</td>\n",
       "      <td>0.0</td>\n",
       "      <td>354.0</td>\n",
       "      <td>NaN</td>\n",
       "      <td>NaN</td>\n",
       "      <td>NaN</td>\n",
       "      <td>1935.0</td>\n",
       "      <td>16.000000</td>\n",
       "      <td>1.750000</td>\n",
       "    </tr>\n",
       "    <tr>\n",
       "      <th>1</th>\n",
       "      <td>Detroit Lions</td>\n",
       "      <td>12.0</td>\n",
       "      <td>191.0</td>\n",
       "      <td>2693.0</td>\n",
       "      <td>674.0</td>\n",
       "      <td>4.0</td>\n",
       "      <td>20.0</td>\n",
       "      <td>0.0</td>\n",
       "      <td>121.0</td>\n",
       "      <td>57.0</td>\n",
       "      <td>142.0</td>\n",
       "      <td>920.0</td>\n",
       "      <td>9.0</td>\n",
       "      <td>20.0</td>\n",
       "      <td>6.5</td>\n",
       "      <td>NaN</td>\n",
       "      <td>532.0</td>\n",
       "      <td>1773.0</td>\n",
       "      <td>15.0</td>\n",
       "      <td>3.3</td>\n",
       "      <td>121.0</td>\n",
       "      <td>0.0</td>\n",
       "      <td>195.0</td>\n",
       "      <td>NaN</td>\n",
       "      <td>NaN</td>\n",
       "      <td>NaN</td>\n",
       "      <td>1935.0</td>\n",
       "      <td>15.916667</td>\n",
       "      <td>1.666667</td>\n",
       "    </tr>\n",
       "    <tr>\n",
       "      <th>2</th>\n",
       "      <td>Green Bay Packers</td>\n",
       "      <td>12.0</td>\n",
       "      <td>181.0</td>\n",
       "      <td>3011.0</td>\n",
       "      <td>678.0</td>\n",
       "      <td>4.4</td>\n",
       "      <td>27.0</td>\n",
       "      <td>0.0</td>\n",
       "      <td>125.0</td>\n",
       "      <td>93.0</td>\n",
       "      <td>230.0</td>\n",
       "      <td>1449.0</td>\n",
       "      <td>11.0</td>\n",
       "      <td>27.0</td>\n",
       "      <td>6.3</td>\n",
       "      <td>NaN</td>\n",
       "      <td>448.0</td>\n",
       "      <td>1562.0</td>\n",
       "      <td>7.0</td>\n",
       "      <td>3.5</td>\n",
       "      <td>125.0</td>\n",
       "      <td>0.0</td>\n",
       "      <td>295.0</td>\n",
       "      <td>NaN</td>\n",
       "      <td>NaN</td>\n",
       "      <td>NaN</td>\n",
       "      <td>1935.0</td>\n",
       "      <td>15.083333</td>\n",
       "      <td>2.250000</td>\n",
       "    </tr>\n",
       "    <tr>\n",
       "      <th>3</th>\n",
       "      <td>New York Giants</td>\n",
       "      <td>12.0</td>\n",
       "      <td>180.0</td>\n",
       "      <td>2400.0</td>\n",
       "      <td>651.0</td>\n",
       "      <td>3.7</td>\n",
       "      <td>19.0</td>\n",
       "      <td>0.0</td>\n",
       "      <td>112.0</td>\n",
       "      <td>69.0</td>\n",
       "      <td>154.0</td>\n",
       "      <td>947.0</td>\n",
       "      <td>10.0</td>\n",
       "      <td>19.0</td>\n",
       "      <td>6.1</td>\n",
       "      <td>NaN</td>\n",
       "      <td>497.0</td>\n",
       "      <td>1453.0</td>\n",
       "      <td>9.0</td>\n",
       "      <td>2.9</td>\n",
       "      <td>112.0</td>\n",
       "      <td>0.0</td>\n",
       "      <td>175.0</td>\n",
       "      <td>NaN</td>\n",
       "      <td>NaN</td>\n",
       "      <td>NaN</td>\n",
       "      <td>1935.0</td>\n",
       "      <td>15.000000</td>\n",
       "      <td>1.583333</td>\n",
       "    </tr>\n",
       "    <tr>\n",
       "      <th>4</th>\n",
       "      <td>Pittsburgh Pirates</td>\n",
       "      <td>12.0</td>\n",
       "      <td>100.0</td>\n",
       "      <td>1504.0</td>\n",
       "      <td>561.0</td>\n",
       "      <td>2.7</td>\n",
       "      <td>40.0</td>\n",
       "      <td>0.0</td>\n",
       "      <td>64.0</td>\n",
       "      <td>67.0</td>\n",
       "      <td>234.0</td>\n",
       "      <td>996.0</td>\n",
       "      <td>5.0</td>\n",
       "      <td>40.0</td>\n",
       "      <td>4.3</td>\n",
       "      <td>NaN</td>\n",
       "      <td>327.0</td>\n",
       "      <td>508.0</td>\n",
       "      <td>4.0</td>\n",
       "      <td>1.6</td>\n",
       "      <td>64.0</td>\n",
       "      <td>0.0</td>\n",
       "      <td>201.0</td>\n",
       "      <td>NaN</td>\n",
       "      <td>NaN</td>\n",
       "      <td>NaN</td>\n",
       "      <td>1935.0</td>\n",
       "      <td>8.333333</td>\n",
       "      <td>3.333333</td>\n",
       "    </tr>\n",
       "  </tbody>\n",
       "</table>\n",
       "</div>"
      ],
      "text/plain": [
       "                   Tm     G     PF  Total_Yds    Ply  Y/P    TO   FL  \\\n",
       "0       Chicago Bears  12.0  192.0     3317.0  760.0  4.4  21.0  0.0   \n",
       "1       Detroit Lions  12.0  191.0     2693.0  674.0  4.0  20.0  0.0   \n",
       "2   Green Bay Packers  12.0  181.0     3011.0  678.0  4.4  27.0  0.0   \n",
       "3     New York Giants  12.0  180.0     2400.0  651.0  3.7  19.0  0.0   \n",
       "4  Pittsburgh Pirates  12.0  100.0     1504.0  561.0  2.7  40.0  0.0   \n",
       "\n",
       "   Total_1stD   Cmp  Pass_Att  Pass_yds  Pass_TD   Int  NY/A  Pass_1stD  \\\n",
       "0       140.0  73.0     221.0    1221.0     13.0  21.0   5.5        NaN   \n",
       "1       121.0  57.0     142.0     920.0      9.0  20.0   6.5        NaN   \n",
       "2       125.0  93.0     230.0    1449.0     11.0  27.0   6.3        NaN   \n",
       "3       112.0  69.0     154.0     947.0     10.0  19.0   6.1        NaN   \n",
       "4        64.0  67.0     234.0     996.0      5.0  40.0   4.3        NaN   \n",
       "\n",
       "   Rush_Att  Rush_Yds  Rush_TD  Y/A  Rush_1stD  Pen  Penalty_Yds  \\\n",
       "0     539.0    2096.0     13.0  3.9      140.0  0.0        354.0   \n",
       "1     532.0    1773.0     15.0  3.3      121.0  0.0        195.0   \n",
       "2     448.0    1562.0      7.0  3.5      125.0  0.0        295.0   \n",
       "3     497.0    1453.0      9.0  2.9      112.0  0.0        175.0   \n",
       "4     327.0     508.0      4.0  1.6       64.0  0.0        201.0   \n",
       "\n",
       "   Penalty_1stD  Sc%  TO%    Year        PPG      TO/G  \n",
       "0           NaN  NaN  NaN  1935.0  16.000000  1.750000  \n",
       "1           NaN  NaN  NaN  1935.0  15.916667  1.666667  \n",
       "2           NaN  NaN  NaN  1935.0  15.083333  2.250000  \n",
       "3           NaN  NaN  NaN  1935.0  15.000000  1.583333  \n",
       "4           NaN  NaN  NaN  1935.0   8.333333  3.333333  "
      ]
     },
     "execution_count": 26,
     "metadata": {},
     "output_type": "execute_result"
    }
   ],
   "source": [
    "ind_teams_offense.head()"
   ]
  },
  {
   "cell_type": "markdown",
   "metadata": {},
   "source": [
    "# Sampling Distributions"
   ]
  },
  {
   "cell_type": "code",
   "execution_count": 9,
   "metadata": {},
   "outputs": [
    {
     "name": "stdout",
     "output_type": "stream",
     "text": [
      "Pre Rule Change Sample Size 627 \n",
      "Post Rule Change Sample Size 1297\n"
     ]
    }
   ],
   "source": [
    "#I need to divide the data into the two sampling distributions for the years prior to the defensive holding rule and after.\n",
    "#pre_rule_change 1935-1977\n",
    "#post_rule_change 1978-2020\n",
    "\n",
    "pre_rule_change = ind_teams_offense.loc[ind_teams_offense[\"Year\"] <1978]\n",
    "post_rule_change = ind_teams_offense.loc[ind_teams_offense[\"Year\"] >=1978]\n",
    "print(f\"Pre Rule Change Sample Size {len(pre_rule_change)} \\nPost Rule Change Sample Size {len(post_rule_change)}\")"
   ]
  },
  {
   "cell_type": "code",
   "execution_count": 10,
   "metadata": {},
   "outputs": [],
   "source": [
    "#I want to access the values and store them as variables.\n",
    "pre_ppg=pre_rule_change.iloc[:,27].values\n",
    "post_ppg=post_rule_change.iloc[:,27].values"
   ]
  },
  {
   "cell_type": "markdown",
   "metadata": {},
   "source": [
    "# EDA"
   ]
  },
  {
   "cell_type": "code",
   "execution_count": 11,
   "metadata": {},
   "outputs": [
    {
     "data": {
      "image/png": "[encoded data removed]",
      "text/plain": [
       "<Figure size 432x288 with 1 Axes>"
      ]
     },
     "metadata": {
      "needs_background": "light"
     },
     "output_type": "display_data"
    }
   ],
   "source": [
    "# I used this format to explore different variables over time quickly.\n",
    "#The for loop allows me to plot multiple y values on the same graph.\n",
    "# Ultimately I was only interested in exploring NFL scoring over time and the distribution of the two samples.\n",
    "x=league_averages[\"Year\"]\n",
    "y=league_averages[\"Pass_yds\"]\n",
    "y2=league_averages[\"Rush_Yds\"]\n",
    "y3=league_averages[\"Penalty_Yds\"]\n",
    "y4=league_averages[\"Rush_TD\"]\n",
    "y5=league_averages[\"Pass_TD\"]\n",
    "y6=league_averages[\"Pass_Att\"]\n",
    "y7=league_averages[\"Rush_Att\"]\n",
    "y8=league_averages[\"TO\"]\n",
    "fig,ax=plt.subplots()\n",
    "\n",
    "for y in [y6,y7]:\n",
    "    ax.plot(x, y)\n",
    "\n",
    "\n",
    "plt.xticks(np.arange(min(x), max(x)+1, 10.0))\n",
    "\n",
    "plt.tight_layout()"
   ]
  },
  {
   "cell_type": "code",
   "execution_count": 12,
   "metadata": {},
   "outputs": [
    {
     "data": {
      "image/png": "[encoded data removed]",
      "text/plain": [
       "<Figure size 432x288 with 1 Axes>"
      ]
     },
     "metadata": {
      "needs_background": "light"
     },
     "output_type": "display_data"
    }
   ],
   "source": [
    "#Turnovers Peak sometime around 1950 and decline consistently \n",
    "#I ended up not using this data, but it was interesting to learn that turnovers have declined so significantly.\n",
    "y=league_averages[\"TO\"]\n",
    "x=league_averages[\"Year\"]\n",
    "fig,ax=plt.subplots()\n",
    "ax.plot(x, y)\n",
    "plt.xticks(np.arange(min(x), max(x)+1, 10.0))\n",
    "plt.xlabel(\"Year\")\n",
    "plt.ylabel(\"League Average Turnovers\")\n",
    "plt.title(\"NFL Average Turnovers\")\n",
    "plt.tight_layout()"
   ]
  },
  {
   "cell_type": "markdown",
   "metadata": {},
   "source": [
    "# NFL Average Points Per Game 1935-2020"
   ]
  },
  {
   "cell_type": "code",
   "execution_count": 25,
   "metadata": {},
   "outputs": [
    {
     "data": {
      "image/png": "[encoded data removed]",
      "text/plain": [
       "<Figure size 432x288 with 1 Axes>"
      ]
     },
     "metadata": {
      "needs_background": "light"
     },
     "output_type": "display_data"
    }
   ],
   "source": [
    "#Plot average points per game of the entire league over time. \n",
    "x=league_avg_game[\"Year\"]\n",
    "y=league_avg_game[\"PF\"]\n",
    "fig,ax=plt.subplots()\n",
    "plt.xticks(np.arange(min(x), max(x)+1, 10.0))\n",
    "ax.plot(x,y)\n",
    "plt.xlabel(\"Year\")\n",
    "plt.ylabel(\"PPG\")\n",
    "plt.title(\"League Average Points Per Game 1935-2020\");"
   ]
  },
  {
   "cell_type": "markdown",
   "metadata": {},
   "source": [
    "# Histogram of Samples"
   ]
  },
  {
   "cell_type": "code",
   "execution_count": 14,
   "metadata": {},
   "outputs": [
    {
     "name": "stderr",
     "output_type": "stream",
     "text": [
      "C:\\Users\\natha\\anaconda3\\lib\\site-packages\\ipykernel_launcher.py:10: MatplotlibDeprecationWarning: \n",
      "The 'normed' kwarg was deprecated in Matplotlib 2.1 and will be removed in 3.1. Use 'density' instead.\n",
      "  # Remove the CWD from sys.path while we load stuff.\n",
      "C:\\Users\\natha\\anaconda3\\lib\\site-packages\\numpy\\lib\\histograms.py:839: RuntimeWarning: invalid value encountered in greater_equal\n",
      "  keep = (tmp_a >= first_edge)\n",
      "C:\\Users\\natha\\anaconda3\\lib\\site-packages\\numpy\\lib\\histograms.py:840: RuntimeWarning: invalid value encountered in less_equal\n",
      "  keep &= (tmp_a <= last_edge)\n",
      "C:\\Users\\natha\\anaconda3\\lib\\site-packages\\ipykernel_launcher.py:11: MatplotlibDeprecationWarning: \n",
      "The 'normed' kwarg was deprecated in Matplotlib 2.1 and will be removed in 3.1. Use 'density' instead.\n",
      "  # This is added back by InteractiveShellApp.init_path()\n"
     ]
    },
    {
     "data": {
      "image/png": "[encoded data removed]",
      "text/plain": [
       "<Figure size 432x288 with 1 Axes>"
      ]
     },
     "metadata": {
      "needs_background": "light"
     },
     "output_type": "display_data"
    }
   ],
   "source": [
    "# I want to plot the two samples together to investigate the relationship.\n",
    "x_pre=pre_ppg\n",
    "x_post=post_ppg\n",
    "fig,ax=plt.subplots()\n",
    "\n",
    "#normalize to help with sample size difference\n",
    "plt.hist(x_pre, color='g', label='Pre-Rule Change',alpha=0.5,normed=True)\n",
    "plt.hist(x_post, color='b', label='Post-Rule Change',alpha=0.5,normed=True)\n",
    "\n",
    "plt.title(\"Histogram of PPG Values\")\n",
    "plt.xlabel('PPG')\n",
    "plt.ylabel('Frequency')\n",
    "plt.legend();"
   ]
  },
  {
   "cell_type": "markdown",
   "metadata": {},
   "source": [
    "# Power"
   ]
  },
  {
   "cell_type": "code",
   "execution_count": 15,
   "metadata": {},
   "outputs": [
    {
     "data": {
      "text/plain": [
       "count    625.000000\n",
       "mean      19.718861\n",
       "std        5.645189\n",
       "min        3.454545\n",
       "25%       16.071429\n",
       "50%       20.000000\n",
       "75%       23.285714\n",
       "max       38.833333\n",
       "Name: PPG, dtype: float64"
      ]
     },
     "execution_count": 15,
     "metadata": {},
     "output_type": "execute_result"
    }
   ],
   "source": [
    "#I need to confirm I have enough statistical power to proceed with hypothesis testing\n",
    "#I will need some summary stats from the ppg column I made, so I will do that and then store them as variables\n",
    "mu_pre=19.718861\n",
    "n_pre=625\n",
    "sigma_pre =5.645189\n",
    "\n",
    "pre_rule_change.iloc[:,27].describe()\n"
   ]
  },
  {
   "cell_type": "code",
   "execution_count": 16,
   "metadata": {},
   "outputs": [
    {
     "data": {
      "text/plain": [
       "count    1297.000000\n",
       "mean       21.247439\n",
       "std         4.333372\n",
       "min         8.750000\n",
       "25%        18.125000\n",
       "50%        21.062500\n",
       "75%        24.062500\n",
       "max        37.875000\n",
       "Name: PPG, dtype: float64"
      ]
     },
     "execution_count": 16,
     "metadata": {},
     "output_type": "execute_result"
    }
   ],
   "source": [
    "mu_post=21.247439\n",
    "n_post=1297\n",
    "sigma_post= 4.333372\n",
    "post_rule_change.iloc[:,27].describe()"
   ]
  },
  {
   "cell_type": "code",
   "execution_count": 17,
   "metadata": {},
   "outputs": [
    {
     "data": {
      "text/plain": [
       "count    1922.000000\n",
       "mean       20.750373\n",
       "std         4.851122\n",
       "min         3.454545\n",
       "25%        17.571429\n",
       "50%        20.781746\n",
       "75%        23.812500\n",
       "max        38.833333\n",
       "Name: PPG, dtype: float64"
      ]
     },
     "execution_count": 17,
     "metadata": {},
     "output_type": "execute_result"
    }
   ],
   "source": [
    "#I need to get population stdev\n",
    "sigma_pre_plus_post=4.851122\n",
    "ind_teams_offense.iloc[:,27].describe()"
   ]
  },
  {
   "cell_type": "code",
   "execution_count": 24,
   "metadata": {},
   "outputs": [
    {
     "data": {
      "text/plain": [
       "0.31509782685325155"
      ]
     },
     "execution_count": 24,
     "metadata": {},
     "output_type": "execute_result"
    }
   ],
   "source": [
    "#Calculate effect size\n",
    "#difference in two sample means/stdev of both\n",
    "#0.31 is a moderate effect\n",
    "\n",
    "effect_size_samples=(mu_post-mu_pre)/sigma_pre_plus_post\n",
    "effect_size_samples"
   ]
  },
  {
   "cell_type": "code",
   "execution_count": 19,
   "metadata": {},
   "outputs": [
    {
     "data": {
      "text/plain": [
       "0.9942553713378007"
      ]
     },
     "execution_count": 19,
     "metadata": {},
     "output_type": "execute_result"
    }
   ],
   "source": [
    "#Statsmodels has a builtin for \n",
    "#I need the ratio between sample sizes so I can account for sample size differences.\n",
    "ratio_for_power=n_pre/n_post\n",
    "\n",
    "smp.tt_ind_solve_power(effect_size=effect_size_samples, nobs1=n_pre, alpha=0.05, ratio=ratio_for_power,alternative='two-sided')\n"
   ]
  },
  {
   "cell_type": "markdown",
   "metadata": {},
   "source": [
    "# Hypothesis Testing"
   ]
  },
  {
   "cell_type": "code",
   "execution_count": 20,
   "metadata": {},
   "outputs": [
    {
     "data": {
      "text/plain": [
       "Ttest_indResult(statistic=-5.974142591912258, pvalue=3.222397308158082e-09)"
      ]
     },
     "execution_count": 20,
     "metadata": {},
     "output_type": "execute_result"
    }
   ],
   "source": [
    "#I will use the scipy stats module built-in to calculate my hypothesis.\n",
    "#Welch adjustment requires that equal_var=False. This accounts for the difference in sample size\n",
    "\n",
    "# pvalue is 3.22*10^-9 or 0.00000000322\n",
    "stats.ttest_ind(pre_ppg, post_ppg, axis=0,nan_policy='omit', equal_var=False)"
   ]
  },
  {
   "cell_type": "markdown",
   "metadata": {},
   "source": [
    "# Conclusion"
   ]
  },
  {
   "cell_type": "markdown",
   "metadata": {},
   "source": [
    "\n",
    "### At the significance level of 0.05, and with a p-value of 3.22*10^-9, I reject the null hypothesis that the means of the two samples are not significantly different."
   ]
  }
 ],
 "metadata": {
  "kernelspec": {
   "display_name": "Python 3",
   "language": "python",
   "name": "python3"
  },
  "language_info": {
   "codemirror_mode": {
    "name": "ipython",
    "version": 3
   },
   "file_extension": ".py",
   "mimetype": "text/x-python",
   "name": "python",
   "nbconvert_exporter": "python",
   "pygments_lexer": "ipython3",
   "version": "3.7.6"
  }
 },
 "nbformat": 4,
 "nbformat_minor": 4
}
